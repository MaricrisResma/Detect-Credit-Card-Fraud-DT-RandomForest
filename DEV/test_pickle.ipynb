{
 "cells": [
  {
   "cell_type": "code",
   "execution_count": 29,
   "metadata": {},
   "outputs": [],
   "source": [
    "import pickle\n",
    "import pandas as pd\n",
    "import numpy as np\n",
    "from  custom_transformer import GenZipCategoryTransformer, GenMCCGroupTransformer, GenHourTransformer, GenDayOfWeekTransformer, EncodeDummiesTransformer"
   ]
  },
  {
   "cell_type": "code",
   "execution_count": 30,
   "metadata": {},
   "outputs": [],
   "source": [
    "# Loading pickle file\n",
    "data_zip_preprocessing = pickle.load(open(\"zip_preprocessing.pkl\", 'rb'))\n",
    "data_mcc_preprocessing = pickle.load(open(\"mcc_preprocessing.pkl\", 'rb'))\n",
    "data_time_preprocessing = pickle.load(open(\"time_preprocessing.pkl\", 'rb'))\n",
    "data_dayOfWeek_preprocessing = pickle.load(open(\"dayOfWeek_preprocessing.pkl\", 'rb'))\n",
    "data_dummy_mcc_preprocessing = pickle.load(open(\"dummy_mcc_preprocessing.pkl\", 'rb'))\n",
    "data_dummy_dayOfWeek_preprocessing = pickle.load(open(\"dummy_dayOfWeek_preprocessing.pkl\", 'rb'))\n",
    "data_dummy_zip_preprocessing = pickle.load(open(\"dummy_zip_preprocessing.pkl\", 'rb'))\n",
    "model_algo_dtree = pickle.load(open(\"cc_fraud_pipeline_1_model.pkl\", 'rb'))"
   ]
  },
  {
   "cell_type": "code",
   "execution_count": 90,
   "metadata": {},
   "outputs": [],
   "source": [
    "model_data = pd.DataFrame({\n",
    "             'Year': [2023,2023,2023], \n",
    "             'Month':[12,12,12], \n",
    "             'Day':[15,15,15], \n",
    "             'Time':['18:00','18:00','09:00'], \n",
    "             'Amount':['$488','$488','$488'], \n",
    "             'Merchant City':['ONLINE','Rome','Rome'], \n",
    "             'Merchant State':[np.NAN, 'Italy', 'Italy'], \n",
    "             'Zip':[np.NaN,np.NAN,np.NAN],\n",
    "            'MCC':[5942,3684,3648]})"
   ]
  },
  {
   "cell_type": "code",
   "execution_count": 91,
   "metadata": {},
   "outputs": [
    {
     "data": {
      "text/html": [
       "<div>\n",
       "<style scoped>\n",
       "    .dataframe tbody tr th:only-of-type {\n",
       "        vertical-align: middle;\n",
       "    }\n",
       "\n",
       "    .dataframe tbody tr th {\n",
       "        vertical-align: top;\n",
       "    }\n",
       "\n",
       "    .dataframe thead th {\n",
       "        text-align: right;\n",
       "    }\n",
       "</style>\n",
       "<table border=\"1\" class=\"dataframe\">\n",
       "  <thead>\n",
       "    <tr style=\"text-align: right;\">\n",
       "      <th></th>\n",
       "      <th>Year</th>\n",
       "      <th>Month</th>\n",
       "      <th>Day</th>\n",
       "      <th>Time</th>\n",
       "      <th>Amount</th>\n",
       "      <th>Merchant City</th>\n",
       "      <th>Merchant State</th>\n",
       "      <th>Zip</th>\n",
       "      <th>MCC</th>\n",
       "    </tr>\n",
       "  </thead>\n",
       "  <tbody>\n",
       "    <tr>\n",
       "      <th>0</th>\n",
       "      <td>2023</td>\n",
       "      <td>12</td>\n",
       "      <td>15</td>\n",
       "      <td>18:00</td>\n",
       "      <td>$488</td>\n",
       "      <td>ONLINE</td>\n",
       "      <td>NaN</td>\n",
       "      <td>NaN</td>\n",
       "      <td>5942</td>\n",
       "    </tr>\n",
       "    <tr>\n",
       "      <th>1</th>\n",
       "      <td>2023</td>\n",
       "      <td>12</td>\n",
       "      <td>15</td>\n",
       "      <td>18:00</td>\n",
       "      <td>$488</td>\n",
       "      <td>Rome</td>\n",
       "      <td>Italy</td>\n",
       "      <td>NaN</td>\n",
       "      <td>3684</td>\n",
       "    </tr>\n",
       "    <tr>\n",
       "      <th>2</th>\n",
       "      <td>2023</td>\n",
       "      <td>12</td>\n",
       "      <td>15</td>\n",
       "      <td>09:00</td>\n",
       "      <td>$488</td>\n",
       "      <td>Rome</td>\n",
       "      <td>Italy</td>\n",
       "      <td>NaN</td>\n",
       "      <td>3648</td>\n",
       "    </tr>\n",
       "  </tbody>\n",
       "</table>\n",
       "</div>"
      ],
      "text/plain": [
       "   Year  Month  Day   Time Amount Merchant City Merchant State  Zip   MCC\n",
       "0  2023     12   15  18:00   $488        ONLINE            NaN  NaN  5942\n",
       "1  2023     12   15  18:00   $488          Rome          Italy  NaN  3684\n",
       "2  2023     12   15  09:00   $488          Rome          Italy  NaN  3648"
      ]
     },
     "execution_count": 91,
     "metadata": {},
     "output_type": "execute_result"
    }
   ],
   "source": [
    "model_data"
   ]
  },
  {
   "cell_type": "code",
   "execution_count": 92,
   "metadata": {},
   "outputs": [
    {
     "name": "stderr",
     "output_type": "stream",
     "text": [
      "c:\\git\\CC-Fraud\\Detect-Credit-Card-Fraud-RandomForest\\DEV\\custom_transformer.py:90: FutureWarning: The default value of regex will change from True to False in a future version. In addition, single character regular expressions will *not* be treated as literal strings when regex=True.\n",
      "  X[\"Amount\"]=X[\"Amount\"].str.replace(\"$\",\"\").astype(float)\n"
     ]
    },
    {
     "data": {
      "text/plain": [
       "array([0, 1, 0], dtype=int64)"
      ]
     },
     "execution_count": 92,
     "metadata": {},
     "output_type": "execute_result"
    }
   ],
   "source": [
    "x_new_trsfrm = data_zip_preprocessing.transform(model_data)\n",
    "x_new_trsfrm = data_mcc_preprocessing.transform(x_new_trsfrm)\n",
    "x_new_trsfrm = data_time_preprocessing.transform(x_new_trsfrm)\n",
    "x_new_trsfrm = data_dayOfWeek_preprocessing.transform(x_new_trsfrm)\n",
    "x_new_trsfrm = data_dummy_mcc_preprocessing.transform(x_new_trsfrm)\n",
    "x_new_trsfrm = data_dummy_dayOfWeek_preprocessing.transform(x_new_trsfrm)\n",
    "x_new_trsfrm = data_dummy_zip_preprocessing.transform(x_new_trsfrm)\n",
    "\n",
    "y_new = model_algo_dtree.predict(x_new_trsfrm)\n",
    "y_new"
   ]
  }
 ],
 "metadata": {
  "kernelspec": {
   "display_name": "Python 3",
   "language": "python",
   "name": "python3"
  },
  "language_info": {
   "codemirror_mode": {
    "name": "ipython",
    "version": 3
   },
   "file_extension": ".py",
   "mimetype": "text/x-python",
   "name": "python",
   "nbconvert_exporter": "python",
   "pygments_lexer": "ipython3",
   "version": "3.10.0"
  }
 },
 "nbformat": 4,
 "nbformat_minor": 2
}
